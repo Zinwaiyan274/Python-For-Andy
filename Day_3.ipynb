{
  "nbformat": 4,
  "nbformat_minor": 0,
  "metadata": {
    "colab": {
      "provenance": [],
      "authorship_tag": "ABX9TyMimh8xHyCUzngrkxpu5z/S",
      "include_colab_link": true
    },
    "kernelspec": {
      "name": "python3",
      "display_name": "Python 3"
    },
    "language_info": {
      "name": "python"
    }
  },
  "cells": [
    {
      "cell_type": "markdown",
      "metadata": {
        "id": "view-in-github",
        "colab_type": "text"
      },
      "source": [
        "<a href=\"https://colab.research.google.com/github/Zinwaiyan274/Python-For-Andy/blob/main/Day_3.ipynb\" target=\"_parent\"><img src=\"https://colab.research.google.com/assets/colab-badge.svg\" alt=\"Open In Colab\"/></a>"
      ]
    },
    {
      "cell_type": "code",
      "source": [
        "x = input('Enter your name:')\n",
        "print('Hello, ' + x)"
      ],
      "metadata": {
        "id": "yWrtUG0ET3oU"
      },
      "execution_count": null,
      "outputs": []
    },
    {
      "cell_type": "code",
      "source": [
        "print('Enter your name:')\n",
        "x = input()\n",
        "print('Hello, ' + x)"
      ],
      "metadata": {
        "colab": {
          "base_uri": "https://localhost:8080/"
        },
        "id": "_12IuyiEUn7-",
        "outputId": "19df1e0f-3f43-44ba-e262-ec1bbb5bfc71"
      },
      "execution_count": 1,
      "outputs": [
        {
          "output_type": "stream",
          "name": "stdout",
          "text": [
            "Enter your name:\n",
            "gdgd\n",
            "Hello, gdgd\n"
          ]
        }
      ]
    },
    {
      "cell_type": "code",
      "execution_count": null,
      "metadata": {
        "id": "Fmw3Ymr7T00i"
      },
      "outputs": [],
      "source": [
        "def multi_two(value):\n",
        "  return value * 2\n",
        "\n",
        "multi_two(5)\n",
        "\n",
        "x = int(input('Enter your number to multiply with 2:'))\n",
        "multi_two(x)"
      ]
    }
  ]
}