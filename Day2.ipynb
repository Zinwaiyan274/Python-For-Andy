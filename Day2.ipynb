{
  "nbformat": 4,
  "nbformat_minor": 0,
  "metadata": {
    "colab": {
      "provenance": [],
      "collapsed_sections": [],
      "authorship_tag": "ABX9TyPU90vXpz0sH5DKatpLpXza",
      "include_colab_link": true
    },
    "kernelspec": {
      "name": "python3",
      "display_name": "Python 3"
    },
    "language_info": {
      "name": "python"
    }
  },
  "cells": [
    {
      "cell_type": "markdown",
      "metadata": {
        "id": "view-in-github",
        "colab_type": "text"
      },
      "source": [
        "<a href=\"https://colab.research.google.com/github/Zinwaiyan274/Python-For-Andy/blob/main/Day2.ipynb\" target=\"_parent\"><img src=\"https://colab.research.google.com/assets/colab-badge.svg\" alt=\"Open In Colab\"/></a>"
      ]
    },
    {
      "cell_type": "markdown",
      "source": [
        "Let's recap Day1 "
      ],
      "metadata": {
        "id": "6ghAxLvruZ87"
      }
    },
    {
      "cell_type": "code",
      "execution_count": null,
      "metadata": {
        "colab": {
          "base_uri": "https://localhost:8080/"
        },
        "id": "lts2PTWucg1g",
        "outputId": "91318deb-0d6b-4210-8ed8-b04a28fd7869"
      },
      "outputs": [
        {
          "output_type": "stream",
          "name": "stdout",
          "text": [
            "Hello Andy Mei\n"
          ]
        }
      ],
      "source": [
        "first_name = \"Andy\"\n",
        "last_name = \"Mei\"\n",
        "full_name = first_name + \" \" +last_name\n",
        "print(\"Hello \"+full_name)\n",
        "\n",
        "\n",
        "#int = a whole integer\n",
        "age = 21\n",
        "age += 1\n",
        "print(\"age is: \"+str(age))\n",
        "# print(type(age))\n",
        "\n",
        "#float = a decimal number\n",
        "# height = 250.5\n",
        "# print(\"Your height is: \"+str(height)+\"cm\")\n",
        "# print(type(height))"
      ]
    },
    {
      "cell_type": "code",
      "source": [
        "print(type(1))"
      ],
      "metadata": {
        "colab": {
          "base_uri": "https://localhost:8080/"
        },
        "id": "6XmMWnKNcsOd",
        "outputId": "f7e69f48-6cd1-42b5-8940-2d4facedd3c7"
      },
      "execution_count": null,
      "outputs": [
        {
          "output_type": "stream",
          "name": "stdout",
          "text": [
            "<class 'int'>\n"
          ]
        }
      ]
    },
    {
      "cell_type": "markdown",
      "source": [
        "**Arithmetic Operators**"
      ],
      "metadata": {
        "id": "zKL5MueculQy"
      }
    },
    {
      "cell_type": "code",
      "source": [
        "#arimethic opreators\n",
        "\n",
        "x = 3   #int\n",
        "y = 10 \n",
        "# //     /    +   -   *  **  %\n",
        "# print(10//3)\n",
        "# print(10/3)\n",
        "# print(10**2)\n",
        "print(11%2)"
      ],
      "metadata": {
        "id": "u-0p-tPJuZLz"
      },
      "execution_count": null,
      "outputs": []
    },
    {
      "cell_type": "markdown",
      "source": [
        "#Type casting \n",
        "\n",
        "**Convert the data type of a value to another data type.**"
      ],
      "metadata": {
        "id": "rqXSHq5ZyzPy"
      }
    },
    {
      "cell_type": "code",
      "source": [
        "x = 1   #int\n",
        "y = 2.0 #float\n",
        "z = \"3\" #str\n",
        "\n",
        "x = int(x)\n",
        "y = int(y)\n",
        "z = int(z)\n",
        "\n",
        "x = float(x)\n",
        "y = float(y)\n",
        "z = float(z)\n",
        "\n",
        "x = str(x)\n",
        "y = str(y)\n",
        "z = str(z)\n",
        "\n",
        "print(x)\n",
        "print(y)\n",
        "print(z*3)"
      ],
      "metadata": {
        "id": "TI_F-i4Dyym1"
      },
      "execution_count": null,
      "outputs": []
    },
    {
      "cell_type": "markdown",
      "source": [
        "#OOP \n",
        "\n",
        "Working with different .py files as a numpy package(Demo in Pycharm IDE )"
      ],
      "metadata": {
        "id": "Tv5syLD3uunq"
      }
    },
    {
      "cell_type": "code",
      "source": [
        "# This cell file name should be \"car.py\"\n",
        "\n",
        "class Car(Vehicle):\n",
        "\n",
        "    def go(self):\n",
        "        print(\"You drive the car\")\n",
        "\n",
        "    def stop(self):\n",
        "        print(\"This car is stopped\")\n",
        "\n",
        "class Motorcycle(Vehicle):\n",
        "\n",
        "    def go(self):\n",
        "        print(\"You ride the motorcycle\")\n",
        "\n",
        "    def stop(self):\n",
        "        print(\"This motorcycle is stopped\")"
      ],
      "metadata": {
        "id": "X6bwtjuzu60r"
      },
      "execution_count": null,
      "outputs": []
    },
    {
      "cell_type": "code",
      "source": [
        "#We gonna import car.py codebase in another .py file\n",
        "\n",
        "\"\"\"\n",
        "below code is in a another .py file. We will import car.py codebase package.\n",
        "\n",
        "\n",
        "\"\"\"\n",
        "\n",
        "# from car import Car  #import a package that we write in a .py file named \"car.py\"\n",
        "\n",
        "\n",
        "car_1 = Car(\"\",\"Model3\",2021,\"bue\")\n",
        "car_2 = Car(\"Ford\",\"Mustang\",2022,\"red\")\n",
        "\n",
        "car_1.drive()\n",
        "car_2.stop()"
      ],
      "metadata": {
        "id": "2X0nIJ8AvMCR"
      },
      "execution_count": null,
      "outputs": []
    }
  ]
}