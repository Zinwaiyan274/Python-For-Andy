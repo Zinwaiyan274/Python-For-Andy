{
  "nbformat": 4,
  "nbformat_minor": 0,
  "metadata": {
    "colab": {
      "provenance": [],
      "collapsed_sections": [],
      "authorship_tag": "ABX9TyMrqmxG6r6/djXXsPMaYYgy",
      "include_colab_link": true
    },
    "kernelspec": {
      "name": "python3",
      "display_name": "Python 3"
    },
    "language_info": {
      "name": "python"
    }
  },
  "cells": [
    {
      "cell_type": "markdown",
      "metadata": {
        "id": "view-in-github",
        "colab_type": "text"
      },
      "source": [
        "<a href=\"https://colab.research.google.com/github/Zinwaiyan274/Python-For-Andy/blob/main/Day1.ipynb\" target=\"_parent\"><img src=\"https://colab.research.google.com/assets/colab-badge.svg\" alt=\"Open In Colab\"/></a>"
      ]
    },
    {
      "cell_type": "markdown",
      "source": [
        "#Introduction \n",
        "\n",
        "Into to programming\n",
        "\n",
        "\n",
        "*   Low level programming Vs High Level programming\n",
        "\n",
        "*  complier Vs Interpreter ([video](https://www.youtube.com/watch?v=e4ax90XmUBc))\n",
        "\n",
        " > env tools : google colab, Github\n",
        "\n",
        "wonderful keywords : opensource, numpy library/ package/ framework, good pratise\n",
        "\n",
        "\n",
        "\n",
        "**Python:**\n",
        "\n",
        "\n",
        "\n",
        "\n",
        "\n",
        " Build-in data types\n",
        "\n",
        "\n",
        "*   string \n",
        "\n",
        "```\n",
        "my_variable = \"Hello\"\n",
        "print(f\"Hello world{my_variable}\")\n",
        "\n",
        "```\n",
        "\n",
        "*   Integers and fload\n",
        "\n",
        "```\n",
        " integer = 455\n",
        " flaot = 3.4\n",
        "```\n",
        "\n",
        "\n",
        "\n"
      ],
      "metadata": {
        "id": "os38ZRE9wtdy"
      }
    },
    {
      "cell_type": "code",
      "execution_count": null,
      "metadata": {
        "id": "HLPBui2ZbeEY"
      },
      "outputs": [],
      "source": [
        "# OOP >> Object oritented programming \n",
        "class dog: \n",
        "  def swim():\n",
        "    print(\"This creature is swimming\")\n",
        "  def eat():\n",
        "    print(\"This animal is eating\")"
      ]
    },
    {
      "cell_type": "markdown",
      "source": [
        "#Introduction \n",
        "Build-in data types for today\n",
        "\n",
        "1.   string\n",
        "2.   integer and float (3.9)\n",
        "\n"
      ],
      "metadata": {
        "id": "FgNAn6BSpoXF"
      }
    },
    {
      "cell_type": "code",
      "source": [
        "print(\"Hello World\") # printing Hello world\n",
        "# solution = \"andy\""
      ],
      "metadata": {
        "colab": {
          "base_uri": "https://localhost:8080/"
        },
        "id": "nvyWJ8mgd68q",
        "outputId": "60a49a6d-f945-4e7c-dd90-b0726d0354d5"
      },
      "execution_count": null,
      "outputs": [
        {
          "output_type": "stream",
          "name": "stdout",
          "text": [
            "Hello World\n"
          ]
        }
      ]
    },
    {
      "cell_type": "code",
      "source": [
        "# Declare variables\n",
        "\n",
        "x = 1.4\n",
        "num2 = 2\n",
        "y = \"Andy\"\n",
        "a = \"Hello\""
      ],
      "metadata": {
        "id": "WrXqX9t9xI0E"
      },
      "execution_count": null,
      "outputs": []
    },
    {
      "cell_type": "code",
      "source": [
        "print(a + y)"
      ],
      "metadata": {
        "colab": {
          "base_uri": "https://localhost:8080/"
        },
        "id": "rGmgjD8PqhKK",
        "outputId": "2e60b6da-b1dd-4b07-8746-2fd0a5b6edc5"
      },
      "execution_count": null,
      "outputs": [
        {
          "output_type": "stream",
          "name": "stdout",
          "text": [
            "HelloAndy\n"
          ]
        }
      ]
    },
    {
      "cell_type": "code",
      "source": [
        "print(a,y )"
      ],
      "metadata": {
        "colab": {
          "base_uri": "https://localhost:8080/"
        },
        "id": "B6IqJaETqkJa",
        "outputId": "96f12dca-35fb-4f68-ddad-2a4d30353fea"
      },
      "execution_count": null,
      "outputs": [
        {
          "output_type": "stream",
          "name": "stdout",
          "text": [
            "Hello Andy\n"
          ]
        }
      ]
    },
    {
      "cell_type": "code",
      "source": [
        "print(f\"HBD {y}\")"
      ],
      "metadata": {
        "colab": {
          "base_uri": "https://localhost:8080/"
        },
        "id": "Oicy4J9Vqr_H",
        "outputId": "d8094c51-6836-4832-dc87-eb75c85fd4eb"
      },
      "execution_count": null,
      "outputs": [
        {
          "output_type": "stream",
          "name": "stdout",
          "text": [
            "HBD Andy\n"
          ]
        }
      ]
    },
    {
      "cell_type": "code",
      "source": [
        "answer = x + num2\n",
        "\n",
        "print(answer)"
      ],
      "metadata": {
        "colab": {
          "base_uri": "https://localhost:8080/"
        },
        "id": "xAre3coCrLw-",
        "outputId": "bf001b00-c51b-4f02-b812-be420de07f05"
      },
      "execution_count": null,
      "outputs": [
        {
          "output_type": "stream",
          "name": "stdout",
          "text": [
            "3.4\n"
          ]
        }
      ]
    },
    {
      "cell_type": "code",
      "source": [
        "answer = x + y\n",
        "\n",
        "print(answer) # this is error cause we calculate different datatypes"
      ],
      "metadata": {
        "colab": {
          "base_uri": "https://localhost:8080/",
          "height": 208
        },
        "id": "TrzUyhNwqTAW",
        "outputId": "155298bc-ece8-4e1a-e309-45a659e39375"
      },
      "execution_count": null,
      "outputs": [
        {
          "output_type": "error",
          "ename": "TypeError",
          "evalue": "ignored",
          "traceback": [
            "\u001b[0;31m---------------------------------------------------------------------------\u001b[0m",
            "\u001b[0;31mTypeError\u001b[0m                                 Traceback (most recent call last)",
            "\u001b[0;32m<ipython-input-33-439d127ded81>\u001b[0m in \u001b[0;36m<module>\u001b[0;34m\u001b[0m\n\u001b[0;32m----> 1\u001b[0;31m \u001b[0manswer\u001b[0m \u001b[0;34m=\u001b[0m \u001b[0mx\u001b[0m \u001b[0;34m+\u001b[0m \u001b[0my\u001b[0m\u001b[0;34m\u001b[0m\u001b[0;34m\u001b[0m\u001b[0m\n\u001b[0m\u001b[1;32m      2\u001b[0m \u001b[0;34m\u001b[0m\u001b[0m\n\u001b[1;32m      3\u001b[0m \u001b[0mprint\u001b[0m\u001b[0;34m(\u001b[0m\u001b[0manswer\u001b[0m\u001b[0;34m)\u001b[0m\u001b[0;34m\u001b[0m\u001b[0;34m\u001b[0m\u001b[0m\n",
            "\u001b[0;31mTypeError\u001b[0m: unsupported operand type(s) for +: 'float' and 'str'"
          ]
        }
      ]
    }
  ]
}